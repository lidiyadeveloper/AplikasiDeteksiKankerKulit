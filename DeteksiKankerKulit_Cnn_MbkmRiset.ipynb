{
  "nbformat": 4,
  "nbformat_minor": 0,
  "metadata": {
    "colab": {
      "name": "DeteksiKankerKulit_Cnn_MbkmRiset.ipynb",
      "provenance": [],
      "collapsed_sections": [],
      "authorship_tag": "ABX9TyMoGpXX6xQ0rYwTdxzjPElm",
      "include_colab_link": true
    },
    "kernelspec": {
      "name": "python3",
      "display_name": "Python 3"
    },
    "language_info": {
      "name": "python"
    },
    "accelerator": "GPU"
  },
  "cells": [
    {
      "cell_type": "markdown",
      "metadata": {
        "id": "view-in-github",
        "colab_type": "text"
      },
      "source": [
        "<a href=\"https://colab.research.google.com/github/adindaayundra/DeteksiKankerKulit-MBKM-Riset/blob/main/DeteksiKankerKulit_Cnn_MbkmRiset.ipynb\" target=\"_parent\"><img src=\"https://colab.research.google.com/assets/colab-badge.svg\" alt=\"Open In Colab\"/></a>"
      ]
    },
    {
      "cell_type": "markdown",
      "metadata": {
        "id": "yBk9msH9LQNc"
      },
      "source": [
        "# **Persiapan Data (Data Preparation)**\n",
        "\n",
        "Import Libraries"
      ]
    },
    {
      "cell_type": "code",
      "metadata": {
        "id": "pxW4hfM7LeVK"
      },
      "source": [
        "import pandas as pd\n",
        "import numpy as np\n",
        "import seaborn as sns\n",
        "import shutil\n",
        "import os\n",
        "import pathlib\n",
        "import matplotlib.pyplot as plt\n",
        "\n",
        "import tensorflow as tf\n",
        "from tensorflow.keras.preprocessing.image import ImageDataGenerator\n",
        "from tensorflow.keras.applications import MobileNetV2\n",
        "\n",
        "import tensorflow.keras as keras\n",
        "from tensorflow.keras.models import Model, Sequential\n",
        "from tensorflow.keras.layers import GlobalAveragePooling2D, Dense, Dropout, BatchNormalization, Activation, Conv2D, MaxPooling2D"
      ],
      "execution_count": null,
      "outputs": []
    },
    {
      "cell_type": "code",
      "metadata": {
        "id": "_FjiXKIANfD_",
        "colab": {
          "base_uri": "https://localhost:8080/"
        },
        "outputId": "ef48de70-622a-4c5f-af34-365845eb6350"
      },
      "source": [
        "# Memasukkan lokasi Dataset Jenis Kanker Kulit\n",
        "\n",
        "from google.colab import drive\n",
        "drive.mount('/content/gdrive')"
      ],
      "execution_count": null,
      "outputs": [
        {
          "output_type": "stream",
          "name": "stdout",
          "text": [
            "Drive already mounted at /content/gdrive; to attempt to forcibly remount, call drive.mount(\"/content/gdrive\", force_remount=True).\n"
          ]
        }
      ]
    },
    {
      "cell_type": "code",
      "metadata": {
        "id": "QNyVbANvOYm-",
        "colab": {
          "base_uri": "https://localhost:8080/"
        },
        "outputId": "1fea982b-77a1-4561-e720-ac085cbac10a"
      },
      "source": [
        "!ls \"/content/gdrive/My Drive/Mbkm Riset/project_mbkmriset/dataset\""
      ],
      "execution_count": null,
      "outputs": [
        {
          "output_type": "stream",
          "name": "stdout",
          "text": [
            "ham10000_images_part_1\thmnist_28_28_L.csv    test     train_lama\n",
            "ham10000_images_part_2\thmnist_28_28_RGB.csv  test_1   val_1\n",
            "HAM10000_metadata.csv\thmnist_8_8_L.csv      train\n",
            "healthy_skin\t\thmnist_8_8_RGB.csv    train_1\n"
          ]
        }
      ]
    },
    {
      "cell_type": "code",
      "metadata": {
        "id": "PICvK11RPCOt"
      },
      "source": [
        "path = \"/content/gdrive/My Drive/Mbkm Riset/project_mbkmriset/dataset\""
      ],
      "execution_count": null,
      "outputs": []
    },
    {
      "cell_type": "code",
      "metadata": {
        "id": "AwDWQETuPKIR",
        "colab": {
          "base_uri": "https://localhost:8080/",
          "height": 202
        },
        "outputId": "591a43a2-bb84-46bf-f288-6a7ccc0f7a92"
      },
      "source": [
        "df = pd.read_csv(\"/content/gdrive/My Drive/Mbkm Riset/project_mbkmriset/dataset/HAM10000_metadata.csv\")\n",
        "df.head()"
      ],
      "execution_count": null,
      "outputs": [
        {
          "output_type": "execute_result",
          "data": {
            "text/html": [
              "<div>\n",
              "<style scoped>\n",
              "    .dataframe tbody tr th:only-of-type {\n",
              "        vertical-align: middle;\n",
              "    }\n",
              "\n",
              "    .dataframe tbody tr th {\n",
              "        vertical-align: top;\n",
              "    }\n",
              "\n",
              "    .dataframe thead th {\n",
              "        text-align: right;\n",
              "    }\n",
              "</style>\n",
              "<table border=\"1\" class=\"dataframe\">\n",
              "  <thead>\n",
              "    <tr style=\"text-align: right;\">\n",
              "      <th></th>\n",
              "      <th>lesion_id</th>\n",
              "      <th>image_id</th>\n",
              "      <th>dx</th>\n",
              "      <th>dx_type</th>\n",
              "      <th>age</th>\n",
              "      <th>sex</th>\n",
              "      <th>localization</th>\n",
              "    </tr>\n",
              "  </thead>\n",
              "  <tbody>\n",
              "    <tr>\n",
              "      <th>0</th>\n",
              "      <td>HAM_0000118</td>\n",
              "      <td>ISIC_0027419</td>\n",
              "      <td>bkl</td>\n",
              "      <td>histo</td>\n",
              "      <td>80.0</td>\n",
              "      <td>male</td>\n",
              "      <td>scalp</td>\n",
              "    </tr>\n",
              "    <tr>\n",
              "      <th>1</th>\n",
              "      <td>HAM_0000118</td>\n",
              "      <td>ISIC_0025030</td>\n",
              "      <td>bkl</td>\n",
              "      <td>histo</td>\n",
              "      <td>80.0</td>\n",
              "      <td>male</td>\n",
              "      <td>scalp</td>\n",
              "    </tr>\n",
              "    <tr>\n",
              "      <th>2</th>\n",
              "      <td>HAM_0002730</td>\n",
              "      <td>ISIC_0026769</td>\n",
              "      <td>bkl</td>\n",
              "      <td>histo</td>\n",
              "      <td>80.0</td>\n",
              "      <td>male</td>\n",
              "      <td>scalp</td>\n",
              "    </tr>\n",
              "    <tr>\n",
              "      <th>3</th>\n",
              "      <td>HAM_0002730</td>\n",
              "      <td>ISIC_0025661</td>\n",
              "      <td>bkl</td>\n",
              "      <td>histo</td>\n",
              "      <td>80.0</td>\n",
              "      <td>male</td>\n",
              "      <td>scalp</td>\n",
              "    </tr>\n",
              "    <tr>\n",
              "      <th>4</th>\n",
              "      <td>HAM_0001466</td>\n",
              "      <td>ISIC_0031633</td>\n",
              "      <td>bkl</td>\n",
              "      <td>histo</td>\n",
              "      <td>75.0</td>\n",
              "      <td>male</td>\n",
              "      <td>ear</td>\n",
              "    </tr>\n",
              "  </tbody>\n",
              "</table>\n",
              "</div>"
            ],
            "text/plain": [
              "     lesion_id      image_id   dx dx_type   age   sex localization\n",
              "0  HAM_0000118  ISIC_0027419  bkl   histo  80.0  male        scalp\n",
              "1  HAM_0000118  ISIC_0025030  bkl   histo  80.0  male        scalp\n",
              "2  HAM_0002730  ISIC_0026769  bkl   histo  80.0  male        scalp\n",
              "3  HAM_0002730  ISIC_0025661  bkl   histo  80.0  male        scalp\n",
              "4  HAM_0001466  ISIC_0031633  bkl   histo  75.0  male          ear"
            ]
          },
          "metadata": {},
          "execution_count": 8
        }
      ]
    },
    {
      "cell_type": "markdown",
      "metadata": {
        "id": "TjOdww2ePicp"
      },
      "source": [
        "\n",
        "* Identifikasi dan Menghapus Duplikat\n",
        " \n",
        "  (Identify and Remove Duplicates)\n"
      ]
    },
    {
      "cell_type": "code",
      "metadata": {
        "id": "CF8chFJEP0bX"
      },
      "source": [
        "df.drop_duplicates(inplace=True)"
      ],
      "execution_count": null,
      "outputs": []
    },
    {
      "cell_type": "markdown",
      "metadata": {
        "id": "CyfBCDkkQHLc"
      },
      "source": [
        "\n",
        "*   **Pembersihan Data**\n",
        "\n",
        "    (Data Cleaning)\n"
      ]
    },
    {
      "cell_type": "code",
      "metadata": {
        "id": "pDISKZDWQTIO",
        "colab": {
          "base_uri": "https://localhost:8080/"
        },
        "outputId": "1695ac04-9707-484a-e45f-80fa2537193c"
      },
      "source": [
        "df.isnull().sum()"
      ],
      "execution_count": null,
      "outputs": [
        {
          "output_type": "execute_result",
          "data": {
            "text/plain": [
              "lesion_id        0\n",
              "image_id         0\n",
              "dx               0\n",
              "dx_type          0\n",
              "age             57\n",
              "sex              0\n",
              "localization     0\n",
              "dtype: int64"
            ]
          },
          "metadata": {},
          "execution_count": 10
        }
      ]
    },
    {
      "cell_type": "markdown",
      "metadata": {
        "id": "lkZ-usfWQcDE"
      },
      "source": [
        "\n",
        "*   Menangani Masalah \n",
        "\n",
        "    (Handling the Problem) :\n",
        "\n",
        " 1. Detecting \"Na\" and \"na\" Values\n",
        " 2. Fill na Values with Mean of \"age\" Column\n"
      ]
    },
    {
      "cell_type": "markdown",
      "metadata": {
        "id": "UmURPobkSx4y"
      },
      "source": [
        "1. Detecting \"Na\" and \"na\" Values"
      ]
    },
    {
      "cell_type": "code",
      "metadata": {
        "id": "A1pnKNaPQnVp"
      },
      "source": [
        "missing_value = ['N/a', 'na', ' ', np.nan]\n",
        "df = pd.read_csv(\"/content/gdrive/My Drive/Mbkm Riset/project_mbkmriset/dataset/HAM10000_metadata.csv\", na_values=missing_value)"
      ],
      "execution_count": null,
      "outputs": []
    },
    {
      "cell_type": "code",
      "metadata": {
        "id": "QKov0Qk1SaLi",
        "colab": {
          "base_uri": "https://localhost:8080/"
        },
        "outputId": "cf4abd93-e3f3-4d07-b4bd-808732036b21"
      },
      "source": [
        "df.isnull().sum()"
      ],
      "execution_count": null,
      "outputs": [
        {
          "output_type": "execute_result",
          "data": {
            "text/plain": [
              "lesion_id        0\n",
              "image_id         0\n",
              "dx               0\n",
              "dx_type          0\n",
              "age             57\n",
              "sex              0\n",
              "localization     0\n",
              "dtype: int64"
            ]
          },
          "metadata": {},
          "execution_count": 12
        }
      ]
    },
    {
      "cell_type": "code",
      "metadata": {
        "id": "ncEFAnlgSexC",
        "colab": {
          "base_uri": "https://localhost:8080/"
        },
        "outputId": "966ed08c-f0ac-431e-ae1d-03247e5d6e07"
      },
      "source": [
        "df.isnull().any()"
      ],
      "execution_count": null,
      "outputs": [
        {
          "output_type": "execute_result",
          "data": {
            "text/plain": [
              "lesion_id       False\n",
              "image_id        False\n",
              "dx              False\n",
              "dx_type         False\n",
              "age              True\n",
              "sex             False\n",
              "localization    False\n",
              "dtype: bool"
            ]
          },
          "metadata": {},
          "execution_count": 13
        }
      ]
    },
    {
      "cell_type": "code",
      "metadata": {
        "id": "osEVyPeYSkVB",
        "colab": {
          "base_uri": "https://localhost:8080/",
          "height": 333
        },
        "outputId": "a45934f0-5ebb-4929-ac35-38a0d45032fd"
      },
      "source": [
        "sns.heatmap(df.isnull(), yticklabels=False)"
      ],
      "execution_count": null,
      "outputs": [
        {
          "output_type": "execute_result",
          "data": {
            "text/plain": [
              "<matplotlib.axes._subplots.AxesSubplot at 0x7f56e81b3350>"
            ]
          },
          "metadata": {},
          "execution_count": 14
        },
        {
          "output_type": "display_data",
          "data": {
            "image/png": "[encoded data removed]",
            "text/plain": [
              "<Figure size 432x288 with 2 Axes>"
            ]
          },
          "metadata": {
            "needs_background": "light"
          }
        }
      ]
    },
    {
      "cell_type": "markdown",
      "metadata": {
        "id": "jnp1OOa0TKEl"
      },
      "source": [
        "2. Fill na Values with Mean of \"age\" Column"
      ]
    },
    {
      "cell_type": "code",
      "metadata": {
        "id": "ZOehRAaVTUQG"
      },
      "source": [
        "df['age'].fillna((df['age'].mean()), inplace=True)"
      ],
      "execution_count": null,
      "outputs": []
    },
    {
      "cell_type": "code",
      "metadata": {
        "id": "heF3wFaRTjQk",
        "colab": {
          "base_uri": "https://localhost:8080/"
        },
        "outputId": "5199901e-314b-4bf9-cab4-6db8119ad35f"
      },
      "source": [
        "df.isnull().sum()"
      ],
      "execution_count": null,
      "outputs": [
        {
          "output_type": "execute_result",
          "data": {
            "text/plain": [
              "lesion_id       0\n",
              "image_id        0\n",
              "dx              0\n",
              "dx_type         0\n",
              "age             0\n",
              "sex             0\n",
              "localization    0\n",
              "dtype: int64"
            ]
          },
          "metadata": {},
          "execution_count": 16
        }
      ]
    },
    {
      "cell_type": "markdown",
      "metadata": {
        "id": "vOetVq-eUCFb"
      },
      "source": [
        "Exploratory Data Analysis"
      ]
    },
    {
      "cell_type": "code",
      "metadata": {
        "id": "FbroxSpSUHFs",
        "colab": {
          "base_uri": "https://localhost:8080/"
        },
        "outputId": "6f5c7f7b-bb4e-4fe5-b0e6-ffe48c08d164"
      },
      "source": [
        "df.dtypes"
      ],
      "execution_count": null,
      "outputs": [
        {
          "output_type": "execute_result",
          "data": {
            "text/plain": [
              "lesion_id        object\n",
              "image_id         object\n",
              "dx               object\n",
              "dx_type          object\n",
              "age             float64\n",
              "sex              object\n",
              "localization     object\n",
              "dtype: object"
            ]
          },
          "metadata": {},
          "execution_count": 17
        }
      ]
    },
    {
      "cell_type": "code",
      "metadata": {
        "id": "jX9j-fHOULe4",
        "colab": {
          "base_uri": "https://localhost:8080/"
        },
        "outputId": "44d4455f-0717-438f-d7ef-cab730633acf"
      },
      "source": [
        "df.info()"
      ],
      "execution_count": null,
      "outputs": [
        {
          "output_type": "stream",
          "name": "stdout",
          "text": [
            "<class 'pandas.core.frame.DataFrame'>\n",
            "RangeIndex: 10015 entries, 0 to 10014\n",
            "Data columns (total 7 columns):\n",
            " #   Column        Non-Null Count  Dtype  \n",
            "---  ------        --------------  -----  \n",
            " 0   lesion_id     10015 non-null  object \n",
            " 1   image_id      10015 non-null  object \n",
            " 2   dx            10015 non-null  object \n",
            " 3   dx_type       10015 non-null  object \n",
            " 4   age           10015 non-null  float64\n",
            " 5   sex           10015 non-null  object \n",
            " 6   localization  10015 non-null  object \n",
            "dtypes: float64(1), object(6)\n",
            "memory usage: 547.8+ KB\n"
          ]
        }
      ]
    },
    {
      "cell_type": "code",
      "metadata": {
        "id": "k5xMgxd3UNJV",
        "colab": {
          "base_uri": "https://localhost:8080/",
          "height": 355
        },
        "outputId": "a59a09ec-82dc-49a1-82ad-7c869c0d7d96"
      },
      "source": [
        "sns.countplot(df['dx'])"
      ],
      "execution_count": null,
      "outputs": [
        {
          "output_type": "stream",
          "name": "stderr",
          "text": [
            "/usr/local/lib/python3.7/dist-packages/seaborn/_decorators.py:43: FutureWarning: Pass the following variable as a keyword arg: x. From version 0.12, the only valid positional argument will be `data`, and passing other arguments without an explicit keyword will result in an error or misinterpretation.\n",
            "  FutureWarning\n"
          ]
        },
        {
          "output_type": "execute_result",
          "data": {
            "text/plain": [
              "<matplotlib.axes._subplots.AxesSubplot at 0x7f56e00bb250>"
            ]
          },
          "metadata": {},
          "execution_count": 19
        },
        {
          "output_type": "display_data",
          "data": {
            "image/png": "[encoded data removed]",
            "text/plain": [
              "<Figure size 432x288 with 1 Axes>"
            ]
          },
          "metadata": {
            "needs_background": "light"
          }
        }
      ]
    },
    {
      "cell_type": "code",
      "metadata": {
        "id": "ITgeuEMqC0Wz",
        "colab": {
          "base_uri": "https://localhost:8080/"
        },
        "outputId": "99c3ea75-d1d0-47c4-ef52-e5c93aade422"
      },
      "source": [
        "dx = df['dx'].value_counts().sort_index()\n",
        "print(dx)"
      ],
      "execution_count": null,
      "outputs": [
        {
          "output_type": "stream",
          "name": "stdout",
          "text": [
            "akiec     327\n",
            "bcc       514\n",
            "bkl      1099\n",
            "df        115\n",
            "mel      1113\n",
            "nv       6705\n",
            "vasc      142\n",
            "Name: dx, dtype: int64\n"
          ]
        }
      ]
    },
    {
      "cell_type": "code",
      "metadata": {
        "id": "oMW0ye9VC-d2",
        "colab": {
          "base_uri": "https://localhost:8080/",
          "height": 657
        },
        "outputId": "384d27d4-1332-4069-acdb-b57e506b32b2"
      },
      "source": [
        "plt.figure(figsize = (10,8))\n",
        "sns.countplot(df['localization'])\n",
        "plt.xticks(rotation = 90)"
      ],
      "execution_count": null,
      "outputs": [
        {
          "output_type": "stream",
          "name": "stderr",
          "text": [
            "/usr/local/lib/python3.7/dist-packages/seaborn/_decorators.py:43: FutureWarning: Pass the following variable as a keyword arg: x. From version 0.12, the only valid positional argument will be `data`, and passing other arguments without an explicit keyword will result in an error or misinterpretation.\n",
            "  FutureWarning\n"
          ]
        },
        {
          "output_type": "execute_result",
          "data": {
            "text/plain": [
              "(array([ 0,  1,  2,  3,  4,  5,  6,  7,  8,  9, 10, 11, 12, 13, 14]),\n",
              " <a list of 15 Text major ticklabel objects>)"
            ]
          },
          "metadata": {},
          "execution_count": 21
        },
        {
          "output_type": "display_data",
          "data": {
            "image/png": "[encoded data removed]",
            "text/plain": [
              "<Figure size 720x576 with 1 Axes>"
            ]
          },
          "metadata": {
            "needs_background": "light"
          }
        }
      ]
    },
    {
      "cell_type": "code",
      "metadata": {
        "id": "K4FlRZ8NDUcu",
        "colab": {
          "base_uri": "https://localhost:8080/",
          "height": 354
        },
        "outputId": "1ef8e739-b410-4a91-c59c-32f61bb1395a"
      },
      "source": [
        "sns.countplot(df['dx_type'])"
      ],
      "execution_count": null,
      "outputs": [
        {
          "output_type": "stream",
          "name": "stderr",
          "text": [
            "/usr/local/lib/python3.7/dist-packages/seaborn/_decorators.py:43: FutureWarning: Pass the following variable as a keyword arg: x. From version 0.12, the only valid positional argument will be `data`, and passing other arguments without an explicit keyword will result in an error or misinterpretation.\n",
            "  FutureWarning\n"
          ]
        },
        {
          "output_type": "execute_result",
          "data": {
            "text/plain": [
              "<matplotlib.axes._subplots.AxesSubplot at 0x7f56dfb4b450>"
            ]
          },
          "metadata": {},
          "execution_count": 22
        },
        {
          "output_type": "display_data",
          "data": {
            "image/png": "[encoded data removed]",
            "text/plain": [
              "<Figure size 432x288 with 1 Axes>"
            ]
          },
          "metadata": {
            "needs_background": "light"
          }
        }
      ]
    },
    {
      "cell_type": "code",
      "metadata": {
        "id": "UO4eGFwsDbeO",
        "colab": {
          "base_uri": "https://localhost:8080/"
        },
        "outputId": "8c677c41-3bae-4349-9f83-8888b8b91d1e"
      },
      "source": [
        "dx_type = df['dx_type'].value_counts().sort_index()\n",
        "print(dx_type)"
      ],
      "execution_count": null,
      "outputs": [
        {
          "output_type": "stream",
          "name": "stdout",
          "text": [
            "confocal       69\n",
            "consensus     902\n",
            "follow_up    3704\n",
            "histo        5340\n",
            "Name: dx_type, dtype: int64\n"
          ]
        }
      ]
    },
    {
      "cell_type": "code",
      "metadata": {
        "id": "2obn12bQDneA",
        "colab": {
          "base_uri": "https://localhost:8080/",
          "height": 352
        },
        "outputId": "352aa335-a96a-4670-b495-1c2b04db83ce"
      },
      "source": [
        "sns.countplot(df['sex'])"
      ],
      "execution_count": null,
      "outputs": [
        {
          "output_type": "stream",
          "name": "stderr",
          "text": [
            "/usr/local/lib/python3.7/dist-packages/seaborn/_decorators.py:43: FutureWarning: Pass the following variable as a keyword arg: x. From version 0.12, the only valid positional argument will be `data`, and passing other arguments without an explicit keyword will result in an error or misinterpretation.\n",
            "  FutureWarning\n"
          ]
        },
        {
          "output_type": "execute_result",
          "data": {
            "text/plain": [
              "<matplotlib.axes._subplots.AxesSubplot at 0x7f56e00f8150>"
            ]
          },
          "metadata": {},
          "execution_count": 24
        },
        {
          "output_type": "display_data",
          "data": {
            "image/png": "[encoded data removed]",
            "text/plain": [
              "<Figure size 432x288 with 1 Axes>"
            ]
          },
          "metadata": {
            "needs_background": "light"
          }
        }
      ]
    },
    {
      "cell_type": "code",
      "metadata": {
        "id": "SbexpmttDuff",
        "colab": {
          "base_uri": "https://localhost:8080/"
        },
        "outputId": "8e4c7bef-0daa-42e1-fdb7-f336b8cdee87"
      },
      "source": [
        "sex = df['sex'].value_counts().sort_index()\n",
        "print(sex)"
      ],
      "execution_count": null,
      "outputs": [
        {
          "output_type": "stream",
          "name": "stdout",
          "text": [
            "female     4552\n",
            "male       5406\n",
            "unknown      57\n",
            "Name: sex, dtype: int64\n"
          ]
        }
      ]
    },
    {
      "cell_type": "code",
      "metadata": {
        "id": "WLXtq0jyD53y",
        "colab": {
          "base_uri": "https://localhost:8080/",
          "height": 580
        },
        "outputId": "89d07916-8cdb-4cff-f584-f112c02d57cf"
      },
      "source": [
        "plt.figure(figsize = (12,6))\n",
        "sns.countplot(df['age'])\n",
        "plt.xticks(rotation = 90)"
      ],
      "execution_count": null,
      "outputs": [
        {
          "output_type": "stream",
          "name": "stderr",
          "text": [
            "/usr/local/lib/python3.7/dist-packages/seaborn/_decorators.py:43: FutureWarning: Pass the following variable as a keyword arg: x. From version 0.12, the only valid positional argument will be `data`, and passing other arguments without an explicit keyword will result in an error or misinterpretation.\n",
            "  FutureWarning\n"
          ]
        },
        {
          "output_type": "execute_result",
          "data": {
            "text/plain": [
              "(array([ 0,  1,  2,  3,  4,  5,  6,  7,  8,  9, 10, 11, 12, 13, 14, 15, 16,\n",
              "        17, 18]), <a list of 19 Text major ticklabel objects>)"
            ]
          },
          "metadata": {},
          "execution_count": 26
        },
        {
          "output_type": "display_data",
          "data": {
            "image/png": "[encoded data removed]",
            "text/plain": [
              "<Figure size 864x432 with 1 Axes>"
            ]
          },
          "metadata": {
            "needs_background": "light"
          }
        }
      ]
    },
    {
      "cell_type": "code",
      "metadata": {
        "id": "8JNQuvp8EOS8",
        "colab": {
          "base_uri": "https://localhost:8080/"
        },
        "outputId": "4fca7c94-9fda-4e46-f178-f54c92ebe8fc"
      },
      "source": [
        "age = df['age'].value_counts().sort_index()\n",
        "print(age)"
      ],
      "execution_count": null,
      "outputs": [
        {
          "output_type": "stream",
          "name": "stdout",
          "text": [
            "0.000000       39\n",
            "5.000000       86\n",
            "10.000000      41\n",
            "15.000000      77\n",
            "20.000000     169\n",
            "25.000000     247\n",
            "30.000000     464\n",
            "35.000000     753\n",
            "40.000000     985\n",
            "45.000000    1299\n",
            "50.000000    1187\n",
            "51.863828      57\n",
            "55.000000    1009\n",
            "60.000000     803\n",
            "65.000000     731\n",
            "70.000000     756\n",
            "75.000000     618\n",
            "80.000000     404\n",
            "85.000000     290\n",
            "Name: age, dtype: int64\n"
          ]
        }
      ]
    },
    {
      "cell_type": "markdown",
      "metadata": {
        "id": "ji0LOZWLEhOS"
      },
      "source": [
        "\n",
        "*   Record the Label Names\n",
        "\n"
      ]
    },
    {
      "cell_type": "code",
      "metadata": {
        "id": "uFatCkADFJJB",
        "colab": {
          "base_uri": "https://localhost:8080/"
        },
        "outputId": "0611b00c-b4b8-4418-b2e9-454604a4f86e"
      },
      "source": [
        "labels = ['Actinic Keratoses',\n",
        "          'Basal Cell Carcinoma',\n",
        "          'Benign Keratosis',\n",
        "          'Dermatofibroma',\n",
        "          'Melanocytic Nevi',\n",
        "          'Melanoma',\n",
        "          'Vascular Skin Lesions']\n",
        "\n",
        "num_classes = len(labels)\n",
        "print(num_classes)"
      ],
      "execution_count": null,
      "outputs": [
        {
          "output_type": "stream",
          "name": "stdout",
          "text": [
            "7\n"
          ]
        }
      ]
    },
    {
      "cell_type": "markdown",
      "metadata": {
        "id": "eGkXxxbJKMO6"
      },
      "source": [
        "\n",
        "*   Create Local Data Directory\n",
        "\n"
      ]
    },
    {
      "cell_type": "code",
      "metadata": {
        "id": "ydVTxu2fKWmX"
      },
      "source": [
        "data_dir = 'data'\n",
        "os.mkdir(data_dir)\n",
        "\n",
        "train_dir = os.path.join(data_dir, 'train')\n",
        "os.mkdir(train_dir)\n",
        "\n",
        "val_dir = os.path.join(data_dir, 'val')\n",
        "os.mkdir(val_dir)\n",
        "\n",
        "test_dir = os.path.join(data_dir, 'test')\n",
        "os.mkdir(test_dir)"
      ],
      "execution_count": null,
      "outputs": []
    },
    {
      "cell_type": "markdown",
      "metadata": {
        "id": "knToLV1vLH5A"
      },
      "source": [
        "\n",
        "\n",
        "*   Create Directory for Each Category in Train/Validation/Test Directory\n",
        "\n"
      ]
    },
    {
      "cell_type": "code",
      "metadata": {
        "id": "zgJ3uSufLWvk"
      },
      "source": [
        "categories = dx.index.values\n",
        "for category in categories:\n",
        "    os.mkdir(os.path.join(train_dir, category))\n",
        "    os.mkdir(os.path.join(val_dir, category))\n",
        "    os.mkdir(os.path.join(test_dir, category))"
      ],
      "execution_count": null,
      "outputs": []
    },
    {
      "cell_type": "markdown",
      "metadata": {
        "id": "koi4AYfgO3AB"
      },
      "source": [
        "\n",
        "*   Split to Train and Validation Set"
      ]
    },
    {
      "cell_type": "code",
      "metadata": {
        "id": "_fYoxgS7O1vo",
        "colab": {
          "base_uri": "https://localhost:8080/"
        },
        "outputId": "5cdbcc07-dd19-48af-c5c1-3d9c2f837019"
      },
      "source": [
        "from sklearn.model_selection import train_test_split\n",
        "df_train, df_tmp = train_test_split(df, test_size = 0.2, random_state = 101, stratify = df['dx'])\n",
        "df_val, df_test = train_test_split(df_tmp, test_size = 0.5, random_state = 101)\n",
        "print(df_train.shape)\n",
        "print(df_val.shape)\n",
        "print(df_test.shape)"
      ],
      "execution_count": null,
      "outputs": [
        {
          "output_type": "stream",
          "name": "stdout",
          "text": [
            "(8012, 7)\n",
            "(1001, 7)\n",
            "(1002, 7)\n"
          ]
        }
      ]
    },
    {
      "cell_type": "code",
      "metadata": {
        "id": "9_t4NgOWQJ8h"
      },
      "source": [
        "# image_id as df index\n",
        "df_train = df_train.set_index('image_id')\n",
        "df_val   = df_val.set_index('image_id')\n",
        "df_test  = df_test.set_index('image_id')"
      ],
      "execution_count": null,
      "outputs": []
    },
    {
      "cell_type": "code",
      "metadata": {
        "id": "6cxCCM00fZup"
      },
      "source": [
        "folder_1 = os.listdir('/content/gdrive/MyDrive/Mbkm Riset/project_mbkmriset/dataset/ham10000_images_part_1') \n",
        "folder_2 = os.listdir('/content/gdrive/MyDrive/Mbkm Riset/project_mbkmriset/dataset/ham10000_images_part_2') \n",
        "\n",
        "def copy_files(df, data_dir):\n",
        "  fileList = df.index.values\n",
        "\n",
        "  for file in fileList:\n",
        "    fname = file + '.jpg'\n",
        "    label = df.loc[file, 'dx']\n",
        "\n",
        "    if fname in folder_1:\n",
        "      src = os.path.join('/content/gdrive/MyDrive/Mbkm Riset/project_mbkmriset/dataset/ham10000_images_part_1', fname) #dilengkapi\n",
        "      dst = os.path.join(data_dir, label, fname)\n",
        "      shutil.copyfile(src, dst)\n",
        "\n",
        "    if fname in folder_2:\n",
        "      src = os.path.join('/content/gdrive/MyDrive/Mbkm Riset/project_mbkmriset/dataset/ham10000_images/part_2', fname) #dilengkapi\n",
        "      dst = os.path.join(data_dir, label, fname)\n",
        "      shutil.copyfile(src, dst)"
      ],
      "execution_count": null,
      "outputs": []
    },
    {
      "cell_type": "markdown",
      "metadata": {
        "id": "YE18T5u-huMp"
      },
      "source": [
        "Alternative 1"
      ]
    },
    {
      "cell_type": "code",
      "metadata": {
        "id": "AJHChZCDhxy6",
        "colab": {
          "base_uri": "https://localhost:8080/",
          "height": 352
        },
        "outputId": "a50a864b-63f9-449e-dd0b-c4124ffdea30"
      },
      "source": [
        "copy_files(df_train, train_dir)\n",
        "copy_files(df_val, val_dir)\n",
        "copy_files(df_test, test_dir) # FIXME: BUG! EMBUH APA!! HAHAHA"
      ],
      "execution_count": null,
      "outputs": [
        {
          "output_type": "error",
          "ename": "FileNotFoundError",
          "evalue": "ignored",
          "traceback": [
            "\u001b[0;31m---------------------------------------------------------------------------\u001b[0m",
            "\u001b[0;31mFileNotFoundError\u001b[0m                         Traceback (most recent call last)",
            "\u001b[0;32m<ipython-input-37-71ddabd29279>\u001b[0m in \u001b[0;36m<module>\u001b[0;34m()\u001b[0m\n\u001b[0;32m----> 1\u001b[0;31m \u001b[0mcopy_files\u001b[0m\u001b[0;34m(\u001b[0m\u001b[0mdf_train\u001b[0m\u001b[0;34m,\u001b[0m \u001b[0mtrain_dir\u001b[0m\u001b[0;34m)\u001b[0m\u001b[0;34m\u001b[0m\u001b[0;34m\u001b[0m\u001b[0m\n\u001b[0m\u001b[1;32m      2\u001b[0m \u001b[0mcopy_files\u001b[0m\u001b[0;34m(\u001b[0m\u001b[0mdf_val\u001b[0m\u001b[0;34m,\u001b[0m \u001b[0mval_dir\u001b[0m\u001b[0;34m)\u001b[0m\u001b[0;34m\u001b[0m\u001b[0;34m\u001b[0m\u001b[0m\n\u001b[1;32m      3\u001b[0m \u001b[0mcopy_files\u001b[0m\u001b[0;34m(\u001b[0m\u001b[0mdf_test\u001b[0m\u001b[0;34m,\u001b[0m \u001b[0mtest_dir\u001b[0m\u001b[0;34m)\u001b[0m\u001b[0;34m\u001b[0m\u001b[0;34m\u001b[0m\u001b[0m\n",
            "\u001b[0;32m<ipython-input-36-edf438bd072b>\u001b[0m in \u001b[0;36mcopy_files\u001b[0;34m(df, data_dir)\u001b[0m\n\u001b[1;32m     17\u001b[0m       \u001b[0msrc\u001b[0m \u001b[0;34m=\u001b[0m \u001b[0mos\u001b[0m\u001b[0;34m.\u001b[0m\u001b[0mpath\u001b[0m\u001b[0;34m.\u001b[0m\u001b[0mjoin\u001b[0m\u001b[0;34m(\u001b[0m\u001b[0;34m'/content/gdrive/MyDrive/Mbkm Riset/project_mbkmriset/dataset/ham10000_images/part_2'\u001b[0m\u001b[0;34m,\u001b[0m \u001b[0mfname\u001b[0m\u001b[0;34m)\u001b[0m \u001b[0;31m#dilengkapi\u001b[0m\u001b[0;34m\u001b[0m\u001b[0;34m\u001b[0m\u001b[0m\n\u001b[1;32m     18\u001b[0m       \u001b[0mdst\u001b[0m \u001b[0;34m=\u001b[0m \u001b[0mos\u001b[0m\u001b[0;34m.\u001b[0m\u001b[0mpath\u001b[0m\u001b[0;34m.\u001b[0m\u001b[0mjoin\u001b[0m\u001b[0;34m(\u001b[0m\u001b[0mdata_dir\u001b[0m\u001b[0;34m,\u001b[0m \u001b[0mlabel\u001b[0m\u001b[0;34m,\u001b[0m \u001b[0mfname\u001b[0m\u001b[0;34m)\u001b[0m\u001b[0;34m\u001b[0m\u001b[0;34m\u001b[0m\u001b[0m\n\u001b[0;32m---> 19\u001b[0;31m       \u001b[0mshutil\u001b[0m\u001b[0;34m.\u001b[0m\u001b[0mcopyfile\u001b[0m\u001b[0;34m(\u001b[0m\u001b[0msrc\u001b[0m\u001b[0;34m,\u001b[0m \u001b[0mdst\u001b[0m\u001b[0;34m)\u001b[0m\u001b[0;34m\u001b[0m\u001b[0;34m\u001b[0m\u001b[0m\n\u001b[0m",
            "\u001b[0;32m/usr/lib/python3.7/shutil.py\u001b[0m in \u001b[0;36mcopyfile\u001b[0;34m(src, dst, follow_symlinks)\u001b[0m\n\u001b[1;32m    118\u001b[0m         \u001b[0mos\u001b[0m\u001b[0;34m.\u001b[0m\u001b[0msymlink\u001b[0m\u001b[0;34m(\u001b[0m\u001b[0mos\u001b[0m\u001b[0;34m.\u001b[0m\u001b[0mreadlink\u001b[0m\u001b[0;34m(\u001b[0m\u001b[0msrc\u001b[0m\u001b[0;34m)\u001b[0m\u001b[0;34m,\u001b[0m \u001b[0mdst\u001b[0m\u001b[0;34m)\u001b[0m\u001b[0;34m\u001b[0m\u001b[0;34m\u001b[0m\u001b[0m\n\u001b[1;32m    119\u001b[0m     \u001b[0;32melse\u001b[0m\u001b[0;34m:\u001b[0m\u001b[0;34m\u001b[0m\u001b[0;34m\u001b[0m\u001b[0m\n\u001b[0;32m--> 120\u001b[0;31m         \u001b[0;32mwith\u001b[0m \u001b[0mopen\u001b[0m\u001b[0;34m(\u001b[0m\u001b[0msrc\u001b[0m\u001b[0;34m,\u001b[0m \u001b[0;34m'rb'\u001b[0m\u001b[0;34m)\u001b[0m \u001b[0;32mas\u001b[0m \u001b[0mfsrc\u001b[0m\u001b[0;34m:\u001b[0m\u001b[0;34m\u001b[0m\u001b[0;34m\u001b[0m\u001b[0m\n\u001b[0m\u001b[1;32m    121\u001b[0m             \u001b[0;32mwith\u001b[0m \u001b[0mopen\u001b[0m\u001b[0;34m(\u001b[0m\u001b[0mdst\u001b[0m\u001b[0;34m,\u001b[0m \u001b[0;34m'wb'\u001b[0m\u001b[0;34m)\u001b[0m \u001b[0;32mas\u001b[0m \u001b[0mfdst\u001b[0m\u001b[0;34m:\u001b[0m\u001b[0;34m\u001b[0m\u001b[0;34m\u001b[0m\u001b[0m\n\u001b[1;32m    122\u001b[0m                 \u001b[0mcopyfileobj\u001b[0m\u001b[0;34m(\u001b[0m\u001b[0mfsrc\u001b[0m\u001b[0;34m,\u001b[0m \u001b[0mfdst\u001b[0m\u001b[0;34m)\u001b[0m\u001b[0;34m\u001b[0m\u001b[0;34m\u001b[0m\u001b[0m\n",
            "\u001b[0;31mFileNotFoundError\u001b[0m: [Errno 2] No such file or directory: '/content/gdrive/MyDrive/Mbkm Riset/project_mbkmriset/dataset/ham10000_images/part_2/ISIC_0030664.jpg'"
          ]
        }
      ]
    },
    {
      "cell_type": "code",
      "metadata": {
        "id": "b5LksmqyifQ5",
        "colab": {
          "base_uri": "https://localhost:8080/",
          "height": 35
        },
        "outputId": "6832e605-f796-4a40-878d-0a4f87c210d4"
      },
      "source": [
        "from shutil import make_archive\n",
        "shutil.make_archive('data', 'zip', root_dir='/content/data')"
      ],
      "execution_count": null,
      "outputs": [
        {
          "output_type": "execute_result",
          "data": {
            "application/vnd.google.colaboratory.intrinsic+json": {
              "type": "string"
            },
            "text/plain": [
              "'/content/data.zip'"
            ]
          },
          "metadata": {},
          "execution_count": 38
        }
      ]
    },
    {
      "cell_type": "code",
      "metadata": {
        "id": "DSjxH7NfiuBk",
        "colab": {
          "base_uri": "https://localhost:8080/",
          "height": 16
        },
        "outputId": "27523fdd-c85d-4ad8-eced-9a0430b2dd6b"
      },
      "source": [
        "from google.colab import files\n",
        "files.download('/content/data.zip')"
      ],
      "execution_count": null,
      "outputs": [
        {
          "output_type": "display_data",
          "data": {
            "application/javascript": [
              "\n",
              "    async function download(id, filename, size) {\n",
              "      if (!google.colab.kernel.accessAllowed) {\n",
              "        return;\n",
              "      }\n",
              "      const div = document.createElement('div');\n",
              "      const label = document.createElement('label');\n",
              "      label.textContent = `Downloading \"${filename}\": `;\n",
              "      div.appendChild(label);\n",
              "      const progress = document.createElement('progress');\n",
              "      progress.max = size;\n",
              "      div.appendChild(progress);\n",
              "      document.body.appendChild(div);\n",
              "\n",
              "      const buffers = [];\n",
              "      let downloaded = 0;\n",
              "\n",
              "      const channel = await google.colab.kernel.comms.open(id);\n",
              "      // Send a message to notify the kernel that we're ready.\n",
              "      channel.send({})\n",
              "\n",
              "      for await (const message of channel.messages) {\n",
              "        // Send a message to notify the kernel that we're ready.\n",
              "        channel.send({})\n",
              "        if (message.buffers) {\n",
              "          for (const buffer of message.buffers) {\n",
              "            buffers.push(buffer);\n",
              "            downloaded += buffer.byteLength;\n",
              "            progress.value = downloaded;\n",
              "          }\n",
              "        }\n",
              "      }\n",
              "      const blob = new Blob(buffers, {type: 'application/binary'});\n",
              "      const a = document.createElement('a');\n",
              "      a.href = window.URL.createObjectURL(blob);\n",
              "      a.download = filename;\n",
              "      div.appendChild(a);\n",
              "      a.click();\n",
              "      div.remove();\n",
              "    }\n",
              "  "
            ],
            "text/plain": [
              "<IPython.core.display.Javascript object>"
            ]
          },
          "metadata": {}
        },
        {
          "output_type": "display_data",
          "data": {
            "application/javascript": [
              "download(\"download_c8910465-f240-4f78-9487-bdc35245dc82\", \"data.zip\", 251283)"
            ],
            "text/plain": [
              "<IPython.core.display.Javascript object>"
            ]
          },
          "metadata": {}
        }
      ]
    },
    {
      "cell_type": "markdown",
      "metadata": {
        "id": "Vh9k5uxSja2G"
      },
      "source": [
        "Alternative 2 after\n",
        "- We download data.zip and we can access from Gdrive"
      ]
    },
    {
      "cell_type": "code",
      "metadata": {
        "id": "5-9TCOO8kNgC"
      },
      "source": [
        "train_dir = pathlib.Path(\"/content/gdrive/My Drive/Mbkm Riset/project_mbkmriset/dataset/train_1\") \n",
        "val_dir = pathlib.Path(\"/content/gdrive/My Drive/Mbkm Riset/project_mbkmriset/dataset/val_1\") \n",
        "test_dir = pathlib.Path(\"/content/gdrive/My Drive/Mbkm Riset/project_mbkmriset/dataset/test_1\") "
      ],
      "execution_count": null,
      "outputs": []
    },
    {
      "cell_type": "code",
      "metadata": {
        "id": "K2-Tu4wgmMV3",
        "colab": {
          "base_uri": "https://localhost:8080/"
        },
        "outputId": "8dd3d0c9-a0f4-4a20-fc10-e7244a3d590a"
      },
      "source": [
        "df_train['dx'].value_counts()"
      ],
      "execution_count": null,
      "outputs": [
        {
          "output_type": "execute_result",
          "data": {
            "text/plain": [
              "nv       5364\n",
              "mel       890\n",
              "bkl       879\n",
              "bcc       411\n",
              "akiec     262\n",
              "vasc      114\n",
              "df         92\n",
              "Name: dx, dtype: int64"
            ]
          },
          "metadata": {},
          "execution_count": 45
        }
      ]
    },
    {
      "cell_type": "code",
      "metadata": {
        "id": "IDNml241mVQ_",
        "colab": {
          "base_uri": "https://localhost:8080/"
        },
        "outputId": "bb5bfe5d-2c1c-42a7-8d43-bf3a1621234d"
      },
      "source": [
        "df_val['dx'].value_counts()"
      ],
      "execution_count": null,
      "outputs": [
        {
          "output_type": "execute_result",
          "data": {
            "text/plain": [
              "nv       670\n",
              "mel      115\n",
              "bkl      110\n",
              "bcc       52\n",
              "akiec     28\n",
              "vasc      16\n",
              "df        10\n",
              "Name: dx, dtype: int64"
            ]
          },
          "metadata": {},
          "execution_count": 46
        }
      ]
    },
    {
      "cell_type": "code",
      "metadata": {
        "id": "Oe5tPu9BmaJ7",
        "colab": {
          "base_uri": "https://localhost:8080/"
        },
        "outputId": "fccbd4c3-37e8-4b6f-fc1e-312d45ab7ed1"
      },
      "source": [
        "df_test['dx'].value_counts()"
      ],
      "execution_count": null,
      "outputs": [
        {
          "output_type": "execute_result",
          "data": {
            "text/plain": [
              "nv       671\n",
              "bkl      110\n",
              "mel      108\n",
              "bcc       51\n",
              "akiec     37\n",
              "df        13\n",
              "vasc      12\n",
              "Name: dx, dtype: int64"
            ]
          },
          "metadata": {},
          "execution_count": 48
        }
      ]
    },
    {
      "cell_type": "code",
      "metadata": {
        "id": "2rCgmHmQmf7Z",
        "colab": {
          "base_uri": "https://localhost:8080/"
        },
        "outputId": "8a514415-9310-4a04-df29-ccd06007f96c"
      },
      "source": [
        "print(len(os.listdir('/content/data/train/akiec')))\n",
        "print(len(os.listdir('/content/data/train/bcc')))\n",
        "print(len(os.listdir('/content/data/train/bkl')))\n",
        "print(len(os.listdir('/content/data/train/df')))\n",
        "print(len(os.listdir('/content/data/train/mel')))\n",
        "print(len(os.listdir('/content/data/train/nv')))\n",
        "print(len(os.listdir('/content/data/train/vasc')))"
      ],
      "execution_count": null,
      "outputs": [
        {
          "output_type": "stream",
          "name": "stdout",
          "text": [
            "0\n",
            "0\n",
            "1\n",
            "0\n",
            "0\n",
            "0\n",
            "0\n"
          ]
        }
      ]
    },
    {
      "cell_type": "code",
      "metadata": {
        "id": "WktlnvsinDZi",
        "colab": {
          "base_uri": "https://localhost:8080/"
        },
        "outputId": "f285847c-ee58-4b1a-8d2a-61624162866e"
      },
      "source": [
        "print(len(os.listdir('/content/data/train/akiec')))\n",
        "print(len(os.listdir('/content/data/train/bcc')))\n",
        "print(len(os.listdir('/content/data/train/bkl')))\n",
        "print(len(os.listdir('/content/data/train/df')))\n",
        "print(len(os.listdir('/content/data/train/mel')))\n",
        "print(len(os.listdir('/content/data/train/nv')))\n",
        "print(len(os.listdir('/content/data/train/vasc')))"
      ],
      "execution_count": null,
      "outputs": [
        {
          "output_type": "stream",
          "name": "stdout",
          "text": [
            "0\n",
            "0\n",
            "1\n",
            "0\n",
            "0\n",
            "0\n",
            "0\n"
          ]
        }
      ]
    },
    {
      "cell_type": "code",
      "metadata": {
        "id": "D67tCyc8nEvi",
        "colab": {
          "base_uri": "https://localhost:8080/"
        },
        "outputId": "554a4850-3439-482f-e43c-d70104247bfa"
      },
      "source": [
        "print(len(os.listdir('/content/data/train/akiec')))\n",
        "print(len(os.listdir('/content/data/train/bcc')))\n",
        "print(len(os.listdir('/content/data/train/bkl')))\n",
        "print(len(os.listdir('/content/data/train/df')))\n",
        "print(len(os.listdir('/content/data/train/mel')))\n",
        "print(len(os.listdir('/content/data/train/nv')))\n",
        "print(len(os.listdir('/content/data/train/vasc')))"
      ],
      "execution_count": null,
      "outputs": [
        {
          "output_type": "stream",
          "name": "stdout",
          "text": [
            "0\n",
            "0\n",
            "1\n",
            "0\n",
            "0\n",
            "0\n",
            "0\n"
          ]
        }
      ]
    },
    {
      "cell_type": "code",
      "metadata": {
        "id": "q5-3pylCnJ8i",
        "colab": {
          "base_uri": "https://localhost:8080/"
        },
        "outputId": "074e0b84-13b3-4980-ab9d-88e90bad0578"
      },
      "source": [
        "print(len(os.listdir('/content/gdrive/My Drive/Mbkm Riset/project_mbkmriset/dataset/train_1/akiec')))\n",
        "print(len(os.listdir('/content/gdrive/My Drive/Mbkm Riset/project_mbkmriset/dataset/train_1/bcc')))\n",
        "print(len(os.listdir('/content/gdrive/My Drive/Mbkm Riset/project_mbkmriset/dataset/train_1/bkl')))\n",
        "print(len(os.listdir('/content/gdrive/My Drive/Mbkm Riset/project_mbkmriset/dataset/train_1/df')))\n",
        "print(len(os.listdir('/content/gdrive/My Drive/Mbkm Riset/project_mbkmriset/dataset/train_1/mel')))\n",
        "print(len(os.listdir('/content/gdrive/My Drive/Mbkm Riset/project_mbkmriset/dataset/train_1/nv')))\n",
        "print(len(os.listdir('/content/gdrive/My Drive/Mbkm Riset/project_mbkmriset/dataset/train_1/vasc')))"
      ],
      "execution_count": null,
      "outputs": [
        {
          "output_type": "stream",
          "name": "stdout",
          "text": [
            "262\n",
            "411\n",
            "0\n",
            "0\n",
            "0\n",
            "1975\n",
            "114\n"
          ]
        }
      ]
    },
    {
      "cell_type": "code",
      "metadata": {
        "id": "jI4aN1GYn7dG"
      },
      "source": [
        "print(len(os.listdir('/content/gdrive/My Drive/project_mbkmriset/dataset/val_1/akiec')))\n",
        "print(len(os.listdir('/content/gdrive/My Drive/project_mbkmriset/dataset/val_1/kcc')))\n",
        "print(len(os.listdir('/content/gdrive/My Drive/project_mbkmriset/dataset/val_1/bkl')))\n",
        "print(len(os.listdir('/content/gdrive/My Drive/project_mbkmriset/dataset/val_1/df')))\n",
        "print(len(os.listdir('/content/gdrive/My Drive/project_mbkmriset/dataset/val_1/mel')))\n",
        "print(len(os.listdir('/content/gdrive/My Drive/project_mbkmriset/dataset/val_1/nv')))\n",
        "print(len(os.listdir('/content/gdrive/My Drive/project_mbkmriset/dataset/val_1/vasc')))"
      ],
      "execution_count": null,
      "outputs": []
    },
    {
      "cell_type": "code",
      "metadata": {
        "id": "iX4UzCn_oEUS"
      },
      "source": [
        "print(len(os.listdir('/content/gdrive/My Drive/project_mbkmriset/dataset/test_1/akiec')))\n",
        "print(len(os.listdir('/content/gdrive/My Drive/project_mbkmriset/dataset/test_1/kcc')))\n",
        "print(len(os.listdir('/content/gdrive/My Drive/project_mbkmriset/dataset/test_1/bkl')))\n",
        "print(len(os.listdir('/content/gdrive/My Drive/project_mbkmriset/dataset/test_1/df')))\n",
        "print(len(os.listdir('/content/gdrive/My Drive/project_mbkmriset/dataset/test_1/mel')))\n",
        "print(len(os.listdir('/content/gdrive/My Drive/project_mbkmriset/dataset/test_1/nv')))\n",
        "print(len(os.listdir('/content/gdrive/My Drive/project_mbkmriset/dataset/test_1/vasc')))"
      ],
      "execution_count": null,
      "outputs": []
    },
    {
      "cell_type": "markdown",
      "metadata": {
        "id": "OeqhFRrhp5Ap"
      },
      "source": [
        "\n",
        "*   Data Augmentation and Flow Data\n",
        "\n"
      ]
    },
    {
      "cell_type": "code",
      "metadata": {
        "id": "aJdgJpksqUAK"
      },
      "source": [
        "train_datagen = ImageDataGenerator(rescale = 1./255,\n",
        "                                   horizontal_flip = True,\n",
        "                                   vertical_flip = True,\n",
        "                                   rotation_range = 20,\n",
        "                                   width_shift_range = 0.2,\n",
        "                                   height_shift_range = 0.2,\n",
        "                                   shear_range = 0.2,\n",
        "                                   zoom_range = 0.2)\n",
        "\n",
        "train_generator = train_datagen.flow_from_directory('/content/data/train',\n",
        "                                                    target_size = (224, 224),\n",
        "                                                    batch_size = 20,\n",
        "                                                    color_mode = 'rgb',\n",
        "                                                    shuffle = True,\n",
        "                                                    seed = 42,\n",
        "                                                    class_mode = 'categorical')"
      ],
      "execution_count": null,
      "outputs": []
    },
    {
      "cell_type": "code",
      "metadata": {
        "id": "2slZ3VNJriuy"
      },
      "source": [
        "validation_datagen = ImageDataGenerator(rescale = 1./255,\n",
        "                                        horizontal_flip = True,\n",
        "                                        vertical_flip = True,\n",
        "                                        rotation_range = 20,\n",
        "                                        width_shift_range = 0.2,\n",
        "                                        height_shift_range = 0.2,\n",
        "                                        shear_range = 0.2,\n",
        "                                        zoom_range = 0.2)\n",
        "\n",
        "validation_generator = train_datagen.flow_from_directory('/content/data/val',\n",
        "                                                         target_size = (224, 224),\n",
        "                                                         batch_size = 20,\n",
        "                                                         color_mode = 'rgb',\n",
        "                                                         shuffle = False,\n",
        "                                                         seed = 42,\n",
        "                                                         class_mode = 'categorical')"
      ],
      "execution_count": null,
      "outputs": []
    },
    {
      "cell_type": "code",
      "metadata": {
        "id": "D9UwRFicsi-4"
      },
      "source": [
        "test_datagen = ImageDataGenerator(rescale = 1./255)\n",
        "\n",
        "test_generator = train_datagen.flow_from_directory('/content/data/test',\n",
        "                                                   target_size = (224, 224),\n",
        "                                                   batch_size = 20,\n",
        "                                                   color_mode = 'rgb',\n",
        "                                                   shuffle = False,\n",
        "                                                   seed = 42,\n",
        "                                                   class_mode = 'categorical')"
      ],
      "execution_count": null,
      "outputs": []
    },
    {
      "cell_type": "markdown",
      "metadata": {
        "id": "0vv9UrcM_9nO"
      },
      "source": [
        "\n",
        "*   Visualize the Data\n",
        "\n"
      ]
    },
    {
      "cell_type": "code",
      "metadata": {
        "id": "0c0brjQcAFuI"
      },
      "source": [
        "for image_batch, labels_batch in train_generator:\n",
        "  print(image_batch.shape)\n",
        "  print(labels_batch.shape)\n",
        "  break"
      ],
      "execution_count": null,
      "outputs": []
    },
    {
      "cell_type": "markdown",
      "metadata": {
        "id": "f-CDO4cTTp93"
      },
      "source": [
        "# Build Model #"
      ]
    },
    {
      "cell_type": "markdown",
      "metadata": {
        "id": "WNUOaFRtAW-z"
      },
      "source": [
        "Manually Define CNN"
      ]
    },
    {
      "cell_type": "code",
      "metadata": {
        "id": "G-v7WzpWAaB8"
      },
      "source": [
        "input_shape = (224, 224, 3)\n",
        "num_classes = 7"
      ],
      "execution_count": null,
      "outputs": []
    },
    {
      "cell_type": "code",
      "metadata": {
        "id": "vK4jTcHHTuK7"
      },
      "source": [
        "model = Sequential([\n",
        "                    Conv2D(32, 3, padding = 'same', activation = 'relu', input_shape = input_shape),\n",
        "                    Conv2D(32, 3, padding = 'same', activation = 'relu'),\n",
        "                    MaxPooling2D(),\n",
        "\n",
        "                    Dropout(0.25),\n",
        "\n",
        "                    Conv2D(64, 3, padding = 'same', activation = 'relu', input_shape = input_shape),\n",
        "                    Conv2D(64, 3, padding = 'same', activation = 'relu'),\n",
        "                    MaxPooling2D(),\n",
        "\n",
        "                    Dropout(0.4),\n",
        "\n",
        "                    Conv2D(128, 3, padding = 'same', activation = 'relu'),\n",
        "                    MaxPooling2D(),\n",
        "\n",
        "                    Dropout(0.5),\n",
        "\n",
        "                    Flatten(),\n",
        "                    Dense(128, activation = 'relu'),\n",
        "\n",
        "                    Dropout(0.55),\n",
        "\n",
        "                    Dense(7, activation = 'softmax')])\n",
        "\n",
        "print('Compiling Model..............')\n",
        "model.compile(optimizer='adam',\n",
        "              loss = 'categorical_crossentropy',\n",
        "              metrics = ['accuracy'])"
      ],
      "execution_count": null,
      "outputs": []
    },
    {
      "cell_type": "code",
      "metadata": {
        "id": "6J9reJ6dDE92"
      },
      "source": [
        "model.summary()"
      ],
      "execution_count": null,
      "outputs": []
    },
    {
      "cell_type": "markdown",
      "metadata": {
        "id": "ei9t2YnDDLM_"
      },
      "source": [
        "\n",
        "*   **Build Base Model**\n",
        "\n"
      ]
    },
    {
      "cell_type": "code",
      "metadata": {
        "id": "sLyYHj-HDHT1"
      },
      "source": [
        "base_model= MobileNetV2(input_shape = input_shape,\n",
        "                        weights = 'imagenet',\n",
        "                        include_top = False,\n",
        "                        classes = num_classes)"
      ],
      "execution_count": null,
      "outputs": []
    },
    {
      "cell_type": "code",
      "metadata": {
        "id": "G_Av9OoGDjLA"
      },
      "source": [
        "for layer in base_model.layers:\n",
        "    layer.trainable = False"
      ],
      "execution_count": null,
      "outputs": []
    },
    {
      "cell_type": "markdown",
      "metadata": {
        "id": "CKYxcDp7DtxJ"
      },
      "source": [
        "\n",
        "\n",
        "*   Add Top Layers Network\n",
        "\n"
      ]
    },
    {
      "cell_type": "code",
      "metadata": {
        "id": "hitCMQymLmyY"
      },
      "source": [
        "model = base_model.output\n",
        "model = Dropout(0.5)(model)\n",
        "model = GlobalAveragePooling2D()(model)\n",
        "model = Dense(256, activation=\"relu\")(model)\n",
        "model = Dense(128, activation=\"relu\")(model)\n",
        "model = BatchNormalization()(model)\n",
        "\n",
        "predicitions = Dense(num_classes, activation='softmax')(model)\n",
        "\n",
        "model = Model(inputs = base_model.input,outputs = predictions)\n",
        "\n",
        "base_model.trainable = False"
      ],
      "execution_count": null,
      "outputs": []
    },
    {
      "cell_type": "code",
      "metadata": {
        "id": "FZm7zPA8rCCl"
      },
      "source": [
        "model.summary()"
      ],
      "execution_count": null,
      "outputs": []
    },
    {
      "cell_type": "markdown",
      "metadata": {
        "id": "44LgeBsirIu7"
      },
      "source": [
        "\n",
        "\n",
        "*   Compile Model\n",
        "\n"
      ]
    },
    {
      "cell_type": "code",
      "metadata": {
        "id": "5VAog3HgrMn1"
      },
      "source": [
        "print('Compiling Model..........')\n",
        "\n",
        "# Compile the model\n",
        "model.compile(optimizer = 'adam',\n",
        "              loss = \"categorical_crossentropy\",\n",
        "              metrics = [\"accuracy\"])"
      ],
      "execution_count": null,
      "outputs": []
    },
    {
      "cell_type": "markdown",
      "metadata": {
        "id": "w14obXYRuF4S"
      },
      "source": [
        "\n",
        "*   Visualization Models"
      ]
    },
    {
      "cell_type": "code",
      "metadata": {
        "id": "zLSkLL35uZsH"
      },
      "source": [
        "model_visual = tf.keras.utils.plot_model(model,\n",
        "                                         to_file = 'model_visualization.png',\n",
        "                                         show_shapes = True,\n",
        "                                         show_layer_names = True,\n",
        "                                         rankdir = 'TB',\n",
        "                                         expand_nested = True,\n",
        "                                         dpi = 55)\n",
        "model_visual"
      ],
      "execution_count": null,
      "outputs": []
    },
    {
      "cell_type": "markdown",
      "metadata": {
        "id": "qxPqlti4vUyz"
      },
      "source": [
        "\n",
        "*   Training the Model"
      ]
    },
    {
      "cell_type": "code",
      "metadata": {
        "id": "8kW7UPfcvdj8"
      },
      "source": [
        "import numpy as np\n",
        "import math\n",
        "\n",
        "# labels_dict : {ind_label: count_label}\n",
        "# mu : parameter to true\n",
        "\n",
        "def create_class_weight(labels_dict,mu=0.15):\n",
        "    total = np.sum(list(labels_dict.values()))\n",
        "    keys = labels_dict.keys()\n",
        "    class_weight = dict()\n",
        "\n",
        "    for key in keys:\n",
        "      score = math.log(mu*total/float(labels_dict[key]))\n",
        "      class_weight[key] = score if score > 1.0 else 1.0\n",
        "\n",
        "    return class_weight\n",
        "\n",
        "    #random labels_dict\n",
        "    labels_dict = {: 327, 1: 514, 2: 1099, 3: 115, 4: 1113, 5: 6705, 6: 142}\n",
        "\n",
        "    create_class_weight(labels_dict)"
      ],
      "execution_count": null,
      "outputs": []
    },
    {
      "cell_type": "code",
      "metadata": {
        "id": "Utz7MDKSy-lW"
      },
      "source": [
        "class_weight = {0 : ........,\n",
        "                1 : ........,\n",
        "                2 : ........,\n",
        "                3 : ........,\n",
        "                4 : ........,\n",
        "                5 : ........,\n",
        "                6 : ........,}\n",
        "\n",
        "#0 : akiec\n",
        "#1 : bcc\n",
        "#2 : bk;\n",
        "#3 : df\n",
        "#4 : mel\n",
        "#5 : nv\n",
        "#6 : vasc"
      ],
      "execution_count": null,
      "outputs": []
    },
    {
      "cell_type": "code",
      "metadata": {
        "id": "o8UCAq6_2A3t"
      },
      "source": [
        "history = model.fit_generator(train_generator,\n",
        "                              class_weight = class_weight,\n",
        "                              steps_per_epoch = len(train_generator),\n",
        "                              epoch 100,\n",
        "                              validation_data = validation_generator,\n",
        "                              validation_steps = len(validation_generator),\n",
        "                              verbose = 1)"
      ],
      "execution_count": null,
      "outputs": []
    },
    {
      "cell_type": "markdown",
      "metadata": {
        "id": "i0LB-dr4c17h"
      },
      "source": [
        "Plot the Model Training"
      ]
    },
    {
      "cell_type": "code",
      "metadata": {
        "id": "D2QF9Dc39-Ot"
      },
      "source": [
        "#------------------------------------------------\n",
        "# Evaluating acc and loss for model\n",
        "#------------------------------------------------\n",
        "# Plot training and validation accuracy per epoch\n",
        "#------------------------------------------------\n",
        "\n",
        "plt.plot(history.history['accuracy'], label = 'Training Accuracy' )\n",
        "plt.plot(history.history['val_accuracy'], label = 'Validation Accuracy' )\n",
        "plt.title('Tranining and validation accuracy')\n",
        "plt.xlabel('Number of Epoch')\n",
        "plt.ylabel('Value')\n",
        "plt.legend(loc='lower right')\n",
        "plt.show"
      ],
      "execution_count": null,
      "outputs": []
    },
    {
      "cell_type": "code",
      "metadata": {
        "id": "ktoCpXc4z5nq"
      },
      "source": [
        "#------------------------------------------------\n",
        "# Plot training and validation loss per epoch\n",
        "#------------------------------------------------\n",
        "\n",
        "plt.plot(history.history['loss'], label = 'Training loss' )\n",
        "plt.plot(history.history['val_loss'], label = 'Validation Loss' )\n",
        "plt.title('Training and validation loss')\n",
        "plt.xlabel('Number of Epoch')\n",
        "plt.ylabel('Value')\n",
        "plt.legend(loc='upper right')\n",
        "plt.show()"
      ],
      "execution_count": null,
      "outputs": []
    },
    {
      "cell_type": "markdown",
      "metadata": {
        "id": "tOjo_Fmp26gG"
      },
      "source": [
        "\n",
        "\n",
        "*   Save Model\n",
        "\n"
      ]
    },
    {
      "cell_type": "code",
      "metadata": {
        "id": "w-gu9X2S4HZn"
      },
      "source": [
        "model.save('model.h5')"
      ],
      "execution_count": null,
      "outputs": []
    },
    {
      "cell_type": "code",
      "metadata": {
        "id": "OfmWWKQP5T4n"
      },
      "source": [
        "model.save('model_without_optimizer.h5', include_optimizer=False)"
      ],
      "execution_count": null,
      "outputs": []
    },
    {
      "cell_type": "markdown",
      "metadata": {
        "id": "yGrO4daER8xD"
      },
      "source": [
        "\n",
        "\n",
        "*  Convert Model to tfjs\n",
        "\n"
      ]
    },
    {
      "cell_type": "code",
      "metadata": {
        "id": "s563XwA1SEHd"
      },
      "source": [
        "!pip install tensorflowjs"
      ],
      "execution_count": null,
      "outputs": []
    },
    {
      "cell_type": "code",
      "metadata": {
        "id": "KSK6TVpqSNEq"
      },
      "source": [
        "!mkdir model"
      ],
      "execution_count": null,
      "outputs": []
    },
    {
      "cell_type": "code",
      "metadata": {
        "id": "V2pAOtgkSPeA"
      },
      "source": [
        "!tensorflowjs_converter --input_format keras \\\n",
        "                        /content/model.h5 \\\n",
        "                        /content/model"
      ],
      "execution_count": null,
      "outputs": []
    },
    {
      "cell_type": "code",
      "metadata": {
        "id": "KqqGN0fGSft0"
      },
      "source": [
        "import shutil\n",
        "from shutil import make_archive\n",
        "shutil.make_archive('model', 'zip', root_dir='/content/model')"
      ],
      "execution_count": null,
      "outputs": []
    },
    {
      "cell_type": "markdown",
      "metadata": {
        "id": "pGZQmA6lS0Z7"
      },
      "source": [
        "\n",
        "\n",
        "*   Convert Model to tflite"
      ]
    },
    {
      "cell_type": "code",
      "metadata": {
        "id": "QIDZv-bkS6RT"
      },
      "source": [
        "# Convert the model\n",
        "converter = tf.lite.TFLiteConverter.from_keras_model(model)\n",
        "tflite_model = converter.convert()\n",
        "\n",
        "# Save the model\n",
        "tflite_model_file = pathlib.Path('/content/model.tflite')\n",
        "tflite_model_file.write_bytes(tflite_model)"
      ],
      "execution_count": null,
      "outputs": []
    },
    {
      "cell_type": "markdown",
      "metadata": {
        "id": "eK5TF29TT-U9"
      },
      "source": [
        "\n",
        "\n",
        "*   Convert Model to PB file"
      ]
    },
    {
      "cell_type": "code",
      "metadata": {
        "id": "s5PTZPTJUDdm"
      },
      "source": [
        "model.save(\"my_model\")"
      ],
      "execution_count": null,
      "outputs": []
    },
    {
      "cell_type": "markdown",
      "metadata": {
        "id": "XYFv2KTXUaJR"
      },
      "source": [
        "\n",
        "\n",
        "*   Model Evaluation using data testing"
      ]
    },
    {
      "cell_type": "code",
      "metadata": {
        "id": "1S2y2KHiUjt8"
      },
      "source": [
        "loss, accuracy = model.evaluate_generator(test_generator, steps = len(test_generator), verbose = 0)\n",
        "\n",
        "print('The Accuracy of Model is {:.f}', format(accuracy))\n",
        "print('The loss of Model is {:.f}', format(loss))"
      ],
      "execution_count": null,
      "outputs": []
    },
    {
      "cell_type": "markdown",
      "metadata": {
        "id": "3i3GxzmiVde5"
      },
      "source": [
        "\n",
        "\n",
        "*   Confusion Matrix\n",
        "\n"
      ]
    },
    {
      "cell_type": "code",
      "metadata": {
        "id": "Ss5tswRJVmdA"
      },
      "source": [
        "from sklearn.metrics import confusion_matrix\n",
        "\n",
        "predict = model.predict_generator(test_generator)\n",
        "y_predict = np.argmax(predict, axis = 1)\n",
        "y_true = test_generator.classes\n",
        "confusion_matrix = confusion_matrix(y_true, y_predict)\n",
        "\n",
        "print(confusion_matrix)"
      ],
      "execution_count": null,
      "outputs": []
    },
    {
      "cell_type": "markdown",
      "metadata": {
        "id": "-bit8sDJYiF6"
      },
      "source": [
        "\n",
        "\n",
        "*   Plot Confusion Matrix\n"
      ]
    },
    {
      "cell_type": "code",
      "metadata": {
        "id": "DkthR1XyYnUM"
      },
      "source": [
        "figure, fx = plt.subsplot()\n",
        "fx.matshow(confusion_matrix, cmap = 'Greens')\n",
        "\n",
        "for (i, j), z in np.ndenumerate(confusion_matrix):\n",
        "  fx.text(j, i, '{:d}'.format(z), ha='center', va='center')\n",
        "\n",
        "plt.show()"
      ],
      "execution_count": null,
      "outputs": []
    },
    {
      "cell_type": "markdown",
      "metadata": {
        "id": "CTvU1RsCZmI1"
      },
      "source": [
        "\n",
        "\n",
        "*   Classification Report\n",
        "Classification Report Visualizer Displays the Precision, Recall, F1, and Support Scores for the Model"
      ]
    },
    {
      "cell_type": "code",
      "metadata": {
        "id": "okyNyxujae5e"
      },
      "source": [
        "from sklearn.metrics import classification_report\n",
        "\n",
        "print(classification_report(y_true, y_predict, target_names=lables))"
      ],
      "execution_count": null,
      "outputs": []
    }
  ]
}